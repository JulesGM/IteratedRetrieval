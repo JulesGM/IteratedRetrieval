{
 "cells": [
  {
   "cell_type": "code",
   "execution_count": 1,
   "id": "1b516ca4",
   "metadata": {},
   "outputs": [
    {
     "name": "stderr",
     "output_type": "stream",
     "text": [
      "2021-09-09 01:06:48,432 [INFO] faiss.loader: Loading faiss with AVX2 support.\n",
      "2021-09-09 01:06:48,434 [INFO] faiss.loader: Could not load library with AVX2 support due to:\n",
      "ModuleNotFoundError(\"No module named 'faiss.swigfaiss_avx2'\")\n",
      "2021-09-09 01:06:48,435 [INFO] faiss.loader: Loading faiss.\n",
      "2021-09-09 01:06:48,649 [INFO] faiss.loader: Successfully loaded faiss.\n",
      "[139827436484416] 2021-09-09 01:06:53,280 [INFO] common_retriever: Checking versions...\n",
      "[139827436484416] 2021-09-09 01:06:53,360 [INFO] transformers.file_utils: PyTorch version 1.7.0 available.\n",
      "[139827436484416] 2021-09-09 01:06:57,268 [INFO] common_retriever: All version checks passed.\n"
     ]
    }
   ],
   "source": [
    "# Standard library\n",
    "import os\n",
    "from pathlib import Path\n",
    "import shlex\n",
    "\n",
    "# Third party\n",
    "import hydra\n",
    "import rich\n",
    "\n",
    "# First Party\n",
    "BASE_PATH = Path(\"/home/mila/g/gagnonju/DPR/\")\n",
    "CONF_PATH = BASE_PATH/\"conf\"\n",
    "OUTPUTS = Path(\"/home/mila/g/gagnonju/IteratedDecoding/outputs/\")\n",
    "OUT_FILE = Path(\n",
    "    \"/home/mila/g/gagnonju/DPR/outputs/integrated_script_attempt/\"\n",
    ")\n",
    " \n",
    "os.chdir(BASE_PATH)\n",
    "import common_retriever"
   ]
  },
  {
   "cell_type": "code",
   "execution_count": null,
   "id": "eb907fa4",
   "metadata": {},
   "outputs": [
    {
     "name": "stderr",
     "output_type": "stream",
     "text": [
      "/home/mila/g/gagnonju/.anaconda3/lib/python3.8/site-packages/hydra/_internal/defaults_list.py:251: UserWarning: In 'dense_retriever': Defaults list is missing `_self_`. See https://hydra.cc/docs/upgrades/1.0_to_1.1/default_composition_order for more information\n",
      "  warnings.warn(msg, UserWarning)\n",
      "/home/mila/g/gagnonju/.anaconda3/lib/python3.8/site-packages/hydra/core/default_element.py:122: UserWarning: In 'ctx_sources/default_sources': Usage of deprecated keyword in package header '# @package _group_'.\n",
      "See https://hydra.cc/docs/next/upgrades/1.0_to_1.1/changes_to_package_header for more information\n",
      "  deprecation_warning(\n",
      "/home/mila/g/gagnonju/.anaconda3/lib/python3.8/site-packages/hydra/core/default_element.py:122: UserWarning: In 'datasets/retriever_default': Usage of deprecated keyword in package header '# @package _group_'.\n",
      "See https://hydra.cc/docs/next/upgrades/1.0_to_1.1/changes_to_package_header for more information\n",
      "  deprecation_warning(\n",
      "/home/mila/g/gagnonju/.anaconda3/lib/python3.8/site-packages/hydra/core/default_element.py:122: UserWarning: In 'encoder/hf_bert': Usage of deprecated keyword in package header '# @package _group_'.\n",
      "See https://hydra.cc/docs/next/upgrades/1.0_to_1.1/changes_to_package_header for more information\n",
      "  deprecation_warning(\n",
      "[139827436484416] 2021-09-09 01:06:57,619 [INFO] root: args.local_rank -1\n",
      "[139827436484416] 2021-09-09 01:06:57,620 [INFO] root: WORLD_SIZE None\n",
      "[139827436484416] 2021-09-09 01:06:57,725 [INFO] root: Initialized host cn-c012 as d.rank -1 on device=cuda, n_gpu=1, world size=1\n",
      "[139827436484416] 2021-09-09 01:06:57,726 [INFO] root: 16-bits training: False \n",
      "[139827436484416] 2021-09-09 01:06:57,728 [INFO] root: Reading saved model from /home/mila/g/gagnonju/DPR/dpr/downloads/checkpoint/retriever/single/nq/bert-base-encoder.cp\n",
      "[139827436484416] 2021-09-09 01:06:58,946 [INFO] root: model_state_dict keys odict_keys(['model_dict', 'optimizer_dict', 'scheduler_dict', 'offset', 'epoch', 'encoder_params'])\n",
      "[139827436484416] 2021-09-09 01:06:59,135 [INFO] transformers.configuration_utils: loading configuration file https://s3.amazonaws.com/models.huggingface.co/bert/bert-base-uncased-config.json from cache at /home/mila/g/gagnonju/.cache/torch/transformers/4dad0251492946e18ac39290fcfe91b89d370fee250efe9521476438fe8ca185.7156163d5fdc189c3016baca0775ffce230789d7fa2a42ef516483e4ca884517\n",
      "[139827436484416] 2021-09-09 01:06:59,136 [INFO] transformers.configuration_utils: Model config BertConfig {\n",
      "  \"architectures\": [\n",
      "    \"BertForMaskedLM\"\n",
      "  ],\n",
      "  \"attention_probs_dropout_prob\": 0.1,\n",
      "  \"gradient_checkpointing\": false,\n",
      "  \"hidden_act\": \"gelu\",\n",
      "  \"hidden_dropout_prob\": 0.1,\n",
      "  \"hidden_size\": 768,\n",
      "  \"initializer_range\": 0.02,\n",
      "  \"intermediate_size\": 3072,\n",
      "  \"layer_norm_eps\": 1e-12,\n",
      "  \"max_position_embeddings\": 512,\n",
      "  \"model_type\": \"bert\",\n",
      "  \"num_attention_heads\": 12,\n",
      "  \"num_hidden_layers\": 12,\n",
      "  \"pad_token_id\": 0,\n",
      "  \"type_vocab_size\": 2,\n",
      "  \"vocab_size\": 30522\n",
      "}\n",
      "\n",
      "[139827436484416] 2021-09-09 01:06:59,256 [INFO] transformers.modeling_utils: loading weights file https://cdn.huggingface.co/bert-base-uncased-pytorch_model.bin from cache at /home/mila/g/gagnonju/.cache/torch/transformers/f2ee78bdd635b758cc0a12352586868bef80e47401abe4c4fcc3832421e7338b.36ca03ab34a1a5d5fa7bc3d03d55c4fa650fed07220e2eeebc06ce58d0e9a157\n",
      "[139827436484416] 2021-09-09 01:07:02,551 [INFO] transformers.modeling_utils: All model checkpoint weights were used when initializing HFBertEncoder.\n",
      "\n",
      "[139827436484416] 2021-09-09 01:07:02,552 [INFO] transformers.modeling_utils: All the weights of HFBertEncoder were initialized from the model checkpoint at bert-base-uncased.\n",
      "If your task is similar to the task the model of the ckeckpoint was trained on, you can already use HFBertEncoder for predictions without further training.\n",
      "[139827436484416] 2021-09-09 01:07:02,655 [INFO] transformers.configuration_utils: loading configuration file https://s3.amazonaws.com/models.huggingface.co/bert/bert-base-uncased-config.json from cache at /home/mila/g/gagnonju/.cache/torch/transformers/4dad0251492946e18ac39290fcfe91b89d370fee250efe9521476438fe8ca185.7156163d5fdc189c3016baca0775ffce230789d7fa2a42ef516483e4ca884517\n",
      "[139827436484416] 2021-09-09 01:07:02,656 [INFO] transformers.configuration_utils: Model config BertConfig {\n",
      "  \"architectures\": [\n",
      "    \"BertForMaskedLM\"\n",
      "  ],\n",
      "  \"attention_probs_dropout_prob\": 0.1,\n",
      "  \"gradient_checkpointing\": false,\n",
      "  \"hidden_act\": \"gelu\",\n",
      "  \"hidden_dropout_prob\": 0.1,\n",
      "  \"hidden_size\": 768,\n",
      "  \"initializer_range\": 0.02,\n",
      "  \"intermediate_size\": 3072,\n",
      "  \"layer_norm_eps\": 1e-12,\n",
      "  \"max_position_embeddings\": 512,\n",
      "  \"model_type\": \"bert\",\n",
      "  \"num_attention_heads\": 12,\n",
      "  \"num_hidden_layers\": 12,\n",
      "  \"pad_token_id\": 0,\n",
      "  \"type_vocab_size\": 2,\n",
      "  \"vocab_size\": 30522\n",
      "}\n",
      "\n",
      "[139827436484416] 2021-09-09 01:07:02,718 [INFO] transformers.modeling_utils: loading weights file https://cdn.huggingface.co/bert-base-uncased-pytorch_model.bin from cache at /home/mila/g/gagnonju/.cache/torch/transformers/f2ee78bdd635b758cc0a12352586868bef80e47401abe4c4fcc3832421e7338b.36ca03ab34a1a5d5fa7bc3d03d55c4fa650fed07220e2eeebc06ce58d0e9a157\n",
      "[139827436484416] 2021-09-09 01:07:05,946 [INFO] transformers.modeling_utils: All model checkpoint weights were used when initializing HFBertEncoder.\n",
      "\n",
      "[139827436484416] 2021-09-09 01:07:05,947 [INFO] transformers.modeling_utils: All the weights of HFBertEncoder were initialized from the model checkpoint at bert-base-uncased.\n",
      "If your task is similar to the task the model of the ckeckpoint was trained on, you can already use HFBertEncoder for predictions without further training.\n",
      "[139827436484416] 2021-09-09 01:07:06,054 [INFO] transformers.tokenization_utils_base: loading file https://s3.amazonaws.com/models.huggingface.co/bert/bert-base-uncased-vocab.txt from cache at /home/mila/g/gagnonju/.cache/torch/transformers/26bc1ad6c0ac742e9b52263248f6d0f00068293b33709fae12320c0e35ccfbbb.542ce4285a40d23a559526243235df47c5f75c197f04f37d1a0c124c32c9a084\n",
      "[139827436484416] 2021-09-09 01:07:06,099 [INFO] common_retriever: Selecting standard question encoder\n",
      "[139827436484416] 2021-09-09 01:07:14,636 [INFO] common_retriever: Loading saved model state ...\n",
      "[139827436484416] 2021-09-09 01:07:14,637 [INFO] common_retriever: Encoder state prefix question_model.\n",
      "[139827436484416] 2021-09-09 01:07:14,690 [INFO] common_retriever: Encoder vector_size=768\n",
      "[139827436484416] 2021-09-09 01:07:14,691 [INFO] common_retriever: Loading passages.\n",
      "[139827436484416] 2021-09-09 01:07:14,733 [INFO] dpr.data.download_data: Requested resource from https://dl.fbaipublicfiles.com/dpr/wikipedia_split/psgs_w100.tsv.gz\n",
      "[139827436484416] 2021-09-09 01:07:14,734 [INFO] dpr.data.download_data: Download root_dir /home/mila/g/gagnonju/DPR\n",
      "[139827436484416] 2021-09-09 01:07:14,736 [INFO] dpr.data.download_data: File to be downloaded as /home/mila/g/gagnonju/DPR/downloads/data/wikipedia_split/psgs_w100.tsv\n",
      "[139827436484416] 2021-09-09 01:07:14,737 [INFO] dpr.data.download_data: File already exist /home/mila/g/gagnonju/DPR/downloads/data/wikipedia_split/psgs_w100.tsv\n",
      "21015325it [04:13, 82971.97it/s]                              \n",
      "[139827436484416] 2021-09-09 01:11:28,024 [INFO] common_retriever: Done loading passages.\n",
      "[139827436484416] 2021-09-09 01:11:28,025 [INFO] common_retriever: Loading index.\n",
      "[139827436484416] 2021-09-09 01:11:28,026 [INFO] common_retriever: Index class <class 'dpr.indexer.faiss_indexers.DenseFlatIndexer'> \n",
      "[139827436484416] 2021-09-09 01:11:28,029 [INFO] common_retriever: Done loading index.\n",
      "[139827436484416] 2021-09-09 01:11:28,029 [INFO] common_retriever: Loading retriever.\n",
      "[139827436484416] 2021-09-09 01:11:28,030 [INFO] common_retriever: Loaded retriever.\n",
      "[139827436484416] 2021-09-09 01:11:28,037 [INFO] common_retriever: Index path: /home/mila/g/gagnonju/DPR/dpr/downloads/indexes/single/nq/full\n",
      "[139827436484416] 2021-09-09 01:11:28,038 [INFO] root: Loading index from /home/mila/g/gagnonju/DPR/dpr/downloads/indexes/single/nq/full\n",
      "[139827436484416] 2021-09-09 01:12:48,803 [INFO] root: Loaded index of type <class 'faiss.swigfaiss.IndexFlat'> and size 21015320\n",
      "[139827436484416] 2021-09-09 01:12:50,596 [INFO] common_retriever: ctx_files_patterns: ['/home/mila/g/gagnonju/DPR/downloads/data/wikipedia_split/psgs_w100.tsv']\n"
     ]
    },
    {
     "name": "stderr",
     "output_type": "stream",
     "text": [
      "[139827436484416] 2021-09-09 01:12:50,601 [INFO] common_retriever: Index path: /home/mila/g/gagnonju/DPR/dpr/downloads/indexes/single/nq/full\n",
      "[139827436484416] 2021-09-09 01:12:50,601 [INFO] root: Loading index from /home/mila/g/gagnonju/DPR/dpr/downloads/indexes/single/nq/full\n"
     ]
    }
   ],
   "source": [
    "with hydra.initialize_config_dir(\n",
    "    config_dir=str(CONF_PATH), \n",
    "):\n",
    "    cfg = hydra.compose(\n",
    "        config_name=\"dense_retriever\",\n",
    "        overrides=[\n",
    "        f\"out_file={shlex.quote(str(OUT_FILE))}\",\n",
    "    ])\n",
    "    \n",
    "    retriever, all_passages = common_retriever.make_retriever(cfg)\n",
    "    questions, question_answers, special_query_token = common_retriever.load_data(cfg)\n",
    "    n_docs = cfg.n_docs"
   ]
  },
  {
   "cell_type": "code",
   "execution_count": null,
   "id": "de843212",
   "metadata": {},
   "outputs": [],
   "source": [
    "top_ids_and_scores = retrieve(retriever, all_passages, question, quetion_answers, special_query_token, n_docs)"
   ]
  },
  {
   "cell_type": "code",
   "execution_count": null,
   "id": "1c66a269",
   "metadata": {},
   "outputs": [],
   "source": [
    "dir(top_ids_and_scores)"
   ]
  },
  {
   "cell_type": "code",
   "execution_count": null,
   "id": "90a3ae6f",
   "metadata": {},
   "outputs": [],
   "source": []
  }
 ],
 "metadata": {
  "kernelspec": {
   "display_name": "Python 3",
   "language": "python",
   "name": "python3"
  },
  "language_info": {
   "codemirror_mode": {
    "name": "ipython",
    "version": 3
   },
   "file_extension": ".py",
   "mimetype": "text/x-python",
   "name": "python",
   "nbconvert_exporter": "python",
   "pygments_lexer": "ipython3",
   "version": "3.8.8"
  }
 },
 "nbformat": 4,
 "nbformat_minor": 5
}
