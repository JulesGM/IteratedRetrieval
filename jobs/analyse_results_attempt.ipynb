{
 "cells": [
  {
   "cell_type": "code",
   "execution_count": 6,
   "metadata": {},
   "outputs": [],
   "source": [
    "import logging\n",
    "import os\n",
    "import concurrent.futures\n",
    "import importlib\n",
    "from pathlib import Path\n",
    "import re\n",
    "import subprocess\n",
    "import sys\n",
    "import time\n",
    "\n",
    "import colorama\n",
    "import jsonlines\n",
    "import matplotlib.pyplot as plt\n",
    "import numpy as np\n",
    "import rich\n",
    "import tqdm"
   ]
  },
  {
   "cell_type": "code",
   "execution_count": 1,
   "metadata": {},
   "outputs": [
    {
     "ename": "NameError",
     "evalue": "name 'Path' is not defined",
     "output_type": "error",
     "traceback": [
      "\u001b[0;31m---------------------------------------------------------------------------\u001b[0m",
      "\u001b[0;31mNameError\u001b[0m                                 Traceback (most recent call last)",
      "\u001b[0;32m/tmp/ipykernel_43264/2069341260.py\u001b[0m in \u001b[0;36m<module>\u001b[0;34m\u001b[0m\n\u001b[1;32m      7\u001b[0m     \u001b[0;32mreturn\u001b[0m \u001b[0mint\u001b[0m\u001b[0;34m(\u001b[0m\u001b[0mnumbers\u001b[0m\u001b[0;34m[\u001b[0m\u001b[0;36m0\u001b[0m\u001b[0;34m]\u001b[0m\u001b[0;34m)\u001b[0m\u001b[0;34m\u001b[0m\u001b[0;34m\u001b[0m\u001b[0m\n\u001b[1;32m      8\u001b[0m \u001b[0;34m\u001b[0m\u001b[0m\n\u001b[0;32m----> 9\u001b[0;31m \u001b[0mtarget_dir\u001b[0m \u001b[0;34m=\u001b[0m \u001b[0mPath\u001b[0m\u001b[0;34m(\u001b[0m\u001b[0;34m\"iterated_decoding_output/first_test/\"\u001b[0m\u001b[0;34m)\u001b[0m\u001b[0;34m.\u001b[0m\u001b[0mresolve\u001b[0m\u001b[0;34m(\u001b[0m\u001b[0;34m)\u001b[0m\u001b[0;34m\u001b[0m\u001b[0;34m\u001b[0m\u001b[0m\n\u001b[0m\u001b[1;32m     10\u001b[0m \u001b[0mwd_dir_retr\u001b[0m \u001b[0;34m=\u001b[0m \u001b[0mtarget_dir\u001b[0m \u001b[0;34m/\u001b[0m \u001b[0;34m\"transformed_retr\"\u001b[0m\u001b[0;34m\u001b[0m\u001b[0;34m\u001b[0m\u001b[0m\n\u001b[1;32m     11\u001b[0m \u001b[0mwd_dir_gen\u001b[0m \u001b[0;34m=\u001b[0m \u001b[0mtarget_dir\u001b[0m \u001b[0;34m/\u001b[0m \u001b[0;34m\"transformed_gen\"\u001b[0m\u001b[0;34m\u001b[0m\u001b[0;34m\u001b[0m\u001b[0m\n",
      "\u001b[0;31mNameError\u001b[0m: name 'Path' is not defined"
     ]
    }
   ],
   "source": [
    "##########################################################################################\n",
    "# Prepare the file lists\n",
    "##########################################################################################\n",
    "def parse_num(path):\n",
    "    numbers = re.findall(\"[0-9]+\", str(Path(path).name))\n",
    "    assert len(numbers) == 1, len(numbers)\n",
    "    return int(numbers[0])\n",
    "\n",
    "target_dir = Path(\"iterated_decoding_output/first_test/\").resolve()\n",
    "wd_dir_retr = target_dir / \"transformed_retr\"\n",
    "wd_dir_gen = target_dir / \"transformed_gen\"\n",
    "\n",
    "contexts_outputs = sorted(target_dir.glob(\"contexts_*\"), key=parse_num)\n",
    "reader_outputs = sorted(target_dir.glob(\"generated_*\"), key=parse_num)\n",
    "\n",
    "print(f\"{len(contexts_outputs) = }\")\n",
    "print(f\"{len(reader_outputs) = }\")"
   ]
  },
  {
   "cell_type": "code",
   "execution_count": null,
   "metadata": {},
   "outputs": [
    {
     "name": "stdout",
     "output_type": "stream",
     "text": [
      "[8757, 8757, 8757, 8757, 8757, 8757, 8757, 8757, 8757, 8757, 8757, 8757, 8757, 8757, 8757]\n"
     ]
    }
   ],
   "source": [
    "def count_lines(path):\n",
    "    return int(subprocess.check_output(\n",
    "        [\"wc\", \"-l\", str(path)]\n",
    "    ).decode().strip().split()[0])\n",
    "\n",
    "\n",
    "def job(packed):\n",
    "    i, path = packed\n",
    "    assert i == parse_num(path), (i, parse_num(path))\n",
    "    loop = []\n",
    "\n",
    "    with jsonlines.open(path) as fin:\n",
    "        for line in fin:\n",
    "            loop.extend(line)\n",
    "\n",
    "\n",
    "reader_gens = list(map(job, enumerate(reader_outputs)))"
   ]
  },
  {
   "cell_type": "code",
   "execution_count": 12,
   "metadata": {},
   "outputs": [
    {
     "name": "stdout",
     "output_type": "stream",
     "text": [
      "len(contexts_outputs_wd) = 15\n",
      "len(reader_outputs_wd) = 15\n"
     ]
    }
   ],
   "source": [
    "##########################################################################################\n",
    "# Clean and move the data\n",
    "##########################################################################################\n",
    "\n",
    "orig_targets = Path(\"../GAR/data/nq-answer/val.target\").resolve()\n",
    "wd_targets = wd_dir_gen / \"val_targets.txt\"\n",
    "\n",
    "# if not wd_targets.exists():\n",
    "#     shutil.copy(orig_targets, wd_targets)\n",
    "\n",
    "    \n",
    "# for i, lines in enumerate(tqdm.tqdm(reader_outputs)):\n",
    "#     with open(wd_dir_gen/f\"val_predictions-{i}.txt\", \"w\") as fout:\n",
    "#         for line in lines:\n",
    "#             line = line.replace(\"</s>\", \"\").replace(\"<pad>\", \"\").strip()\n",
    "#             fout.write(line + \"\\n\")\n",
    "            \n",
    "contexts_outputs_wd = sorted(wd_dir_retr.glob(\"contexts_*\"), key=parse_num)\n",
    "reader_outputs_wd = sorted(wd_dir_gen.glob(\"val_predictions-*\"), key=parse_num)\n",
    "\n",
    "print(f\"{len(contexts_outputs_wd) = }\")\n",
    "print(f\"{len(reader_outputs_wd) = }\")"
   ]
  },
  {
   "cell_type": "code",
   "execution_count": null,
   "metadata": {},
   "outputs": [
    {
     "name": "stdout",
     "output_type": "stream",
     "text": [
      "/home/mila/g/gagnonju/condaless/bin/python\n",
      "/home/mila/g/gagnonju/IteratedDecoding/jobs/iterated_decoding_output/first_test/transformed\n",
      "\u001b[1;32mAll done!\u001b[0m\n",
      "\u001b[1;31mTotal time: \u001b[0m\u001b[1;31m0.2715453691780567\u001b[0m\n"
     ]
    }
   ],
   "source": [
    "# !which python\n",
    "# !python compute_rouge.py $reader_outputs_wd"
   ]
  },
  {
   "cell_type": "code",
   "execution_count": 19,
   "metadata": {},
   "outputs": [
    {
     "name": "stdout",
     "output_type": "stream",
     "text": [
      "len(paths_rouge) = 15\n"
     ]
    }
   ],
   "source": [
    "paths_rouge = sorted(wd_dir_gen.glob(\"rouge*\"), key=parse_num)\n",
    "print(f\"{len(paths_rouge) = }\")"
   ]
  },
  {
   "cell_type": "code",
   "execution_count": 56,
   "metadata": {},
   "outputs": [],
   "source": [
    "def read_file(path: Path):\n",
    "    with open(path) as fin:\n",
    "        return fin.read()\n",
    "\n",
    "def read_jsonl(path: Path):\n",
    "    assert str(path).endswith(\".jsonl\"), path\n",
    "    chars = read_file(path)\n",
    "    with jsonlines.open(path) as fin:\n",
    "        return list(fin)\n"
   ]
  },
  {
   "cell_type": "code",
   "execution_count": 68,
   "metadata": {},
   "outputs": [
    {
     "name": "stdout",
     "output_type": "stream",
     "text": [
      "1: 1.14% that have more than absolute 0 overlap\n",
      "2: 0.66% that have more than absolute 0 overlap\n",
      "3: 0.55% that have more than absolute 0 overlap\n",
      "4: 0.59% that have more than absolute 0 overlap\n",
      "5: 0.53% that have more than absolute 0 overlap\n",
      "6: 0.53% that have more than absolute 0 overlap\n",
      "7: 0.42% that have more than absolute 0 overlap\n",
      "8: 0.39% that have more than absolute 0 overlap\n",
      "9: 0.57% that have more than absolute 0 overlap\n",
      "10: 0.46% that have more than absolute 0 overlap\n",
      "11: 0.37% that have more than absolute 0 overlap\n",
      "12: 0.31% that have more than absolute 0 overlap\n",
      "13: 0.46% that have more than absolute 0 overlap\n",
      "14: 0.49% that have more than absolute 0 overlap\n"
     ]
    }
   ],
   "source": [
    "f0_path = contexts_outputs_wd[0]\n",
    "f0 = read_jsonl(f0_path)\n",
    "\n",
    "for path_f1 in sorted(set(contexts_outputs_wd) - {f0_path}, key=parse_num):\n",
    "    f1 = read_jsonl(path_f1)\n",
    "    assert len(f0) == len(f1), (len(f0), len(f1))\n",
    "    qty_all = len(f0[0])\n",
    "\n",
    "    goods = 0\n",
    "    bads = 0\n",
    "    for f0_l, f1_l in zip(f0, f1):   \n",
    "        for index in range(len(f0_l[\"ids\"])):\n",
    "            set_0 = {int(x) for x in f0_l[\"ids\"][index]}\n",
    "            set_1 = {int(x) for x in f1_l[\"ids\"][index]}\n",
    "            set_or = set_0 | set_1\n",
    "            set_and = set_0 & set_1\n",
    "            ratio = len(set_and) / len(set_or)\n",
    "            if len(set_and) != 0:\n",
    "                goods += 1\n",
    "            else:\n",
    "                bads += 1\n",
    "    print(f\"{parse_num(path_f1)}: {goods / (goods + bads):.2%} that have more than absolute 0 overlap\")\n"
   ]
  },
  {
   "cell_type": "code",
   "execution_count": null,
   "metadata": {},
   "outputs": [],
   "source": []
  }
 ],
 "metadata": {
  "interpreter": {
   "hash": "216aa0f20db7ce702367029d84ea3592bfc3f96b93cd2a9f20b253914d81e5c2"
  },
  "kernelspec": {
   "display_name": "Python 3 (ipykernel)",
   "language": "python",
   "name": "python3"
  },
  "language_info": {
   "codemirror_mode": {
    "name": "ipython",
    "version": 3
   },
   "file_extension": ".py",
   "mimetype": "text/x-python",
   "name": "python",
   "nbconvert_exporter": "python",
   "pygments_lexer": "ipython3",
   "version": "3.8.2"
  }
 },
 "nbformat": 4,
 "nbformat_minor": 4
}
