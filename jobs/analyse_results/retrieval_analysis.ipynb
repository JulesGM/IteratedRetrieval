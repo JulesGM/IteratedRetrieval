{
 "cells": [
  {
   "cell_type": "code",
   "execution_count": 1,
   "metadata": {},
   "outputs": [],
   "source": [
    "%load_ext autoreload\n",
    "%autoreload 2"
   ]
  },
  {
   "cell_type": "code",
   "execution_count": 2,
   "metadata": {},
   "outputs": [
    {
     "name": "stdout",
     "output_type": "stream",
     "text": [
      "(Re)/Loading common_retriever.py\n",
      "(Re)/Loading iterated_utils.py\n",
      "importing torch\n",
      "done importing torch\n",
      "/home/mila/g/gagnonju/IteratedDecoding/DPR/dense_retriever.py\n",
      "Done with all imports\n",
      "Done with third party imports\n",
      "Done with all imports\n"
     ]
    }
   ],
   "source": [
    "import collections\n",
    "import logging\n",
    "import math\n",
    "import os\n",
    "from pathlib import *\n",
    "import pickle\n",
    "import re\n",
    "import shutil\n",
    "import sys\n",
    "import time\n",
    "\n",
    "\n",
    "import colorama\n",
    "import jsonlines as jsonl\n",
    "import matplotlib.pyplot as plt\n",
    "import numpy as np\n",
    "import retrieval_analysis_lib as ra\n",
    "import rich\n",
    "import rich.console\n",
    "print(\"Done with third party imports\")\n",
    "\n",
    "sys.path.insert(0, \"/home/mila/g/gagnonju/IteratedDecoding/jobs/retrieve_and_decode\")\n",
    "import common_retriever\n",
    "import iterated_utils as utils\n",
    "print(\"Done with all imports\")\n",
    "\n",
    "LOGGER = logging.getLogger(__name__)\n",
    "\n",
    "format_info = (\n",
    "    \"[%(levelname)s] (%(asctime)s) \"\n",
    "    \"{%(name)s->%(funcName)s:%(lineno)d}:\\n\"\n",
    ")\n",
    "\n",
    "logging_format = (\n",
    "    colorama.Fore.CYAN +\n",
    "    format_info +\n",
    "    colorama.Style.RESET_ALL +\n",
    "    \"%(message)s\"\n",
    ")\n",
    "\n",
    "logging.basicConfig(\n",
    "    format=logging_format,\n",
    "    level=logging.INFO,\n",
    "    force=True,\n",
    ")\n",
    "\n",
    "logging.getLogger(\n",
    "    \"common_retriever\"\n",
    ").setLevel(logging.WARN)\n",
    "logging.getLogger(\n",
    "    \"dense_retriever\"\n",
    ").setLevel(logging.WARN)\n",
    "logging.getLogger(\n",
    "    \"dpr.data.download_data\"\n",
    ").setLevel(logging.WARN)\n",
    "logging.getLogger(\n",
    "    \"dpr.data.qa_validation\"\n",
    ").setLevel(logging.WARN)\n",
    "\n",
    "logging.getLogger(\n",
    "    \"transformers.configuration_utils\"\n",
    ").setLevel(logging.WARN)\n",
    "logging.getLogger(\n",
    "    \"transformers.tokenization_utils\"\n",
    ").setLevel(logging.WARN)\n",
    "logging.getLogger(\n",
    "    \"transformers.modeling_utils\"\n",
    ").setLevel(logging.WARN)\n",
    "\n",
    "\n",
    "########################################################################\n",
    "# Parse the files\n",
    "########################################################################\n",
    "ROOT = Path(\"/home/mila/g/gagnonju/IteratedDecoding/\")\n",
    "RETRIEVE_AND_DECODE_ROOT = ROOT / \"jobs\" / \"retrieve_and_decode\"\n",
    "RETRIEVE_AND_DECODE_OUTPUT = RETRIEVE_AND_DECODE_ROOT / \"iterated_decoding_output\""
   ]
  },
  {
   "cell_type": "code",
   "execution_count": 3,
   "metadata": {},
   "outputs": [
    {
     "name": "stderr",
     "output_type": "stream",
     "text": [
      "/home/mila/g/gagnonju/condaless/lib/python3.8/site-packages/hydra/_internal/defaults_list.py:251: UserWarning: In 'dense_retriever': Defaults list is missing `_self_`. See https://hydra.cc/docs/upgrades/1.0_to_1.1/default_composition_order for more information\n",
      "  warnings.warn(msg, UserWarning)\n"
     ]
    }
   ],
   "source": [
    "DPR_CONF_PATH = ROOT / \"DPR\" / \"conf\"\n",
    "cfg = common_retriever.build_cfg(DPR_CONF_PATH)\n",
    "\n",
    "with (ROOT / \"jobs\" / \"cache\" / \"all_passages.pkl\").open(\"rb\") as fin:\n",
    "    passages = pickle.load(fin)\n",
    "\n",
    "questions, question_answers = ra.load_questions_and_answers(cfg, \"nq_dev\")"
   ]
  },
  {
   "cell_type": "code",
   "execution_count": null,
   "metadata": {},
   "outputs": [],
   "source": [
    "INPUT_FOLDER_NAME = \"y2021m11d11-h19m53s46_SENTENCE_CONCATENATE_ARGMAX_TOP_K_100_FINAL_NUM_CONTEXTS_100_TEMPERATURE_5.0\"\n",
    "\n",
    "results, out_file, input_copy_dir, input_folder = ra.analyse(\n",
    "    cfg=cfg,\n",
    "    input_fodlder_name=INPUT_FOLDER_NAME, \n",
    "    retrieve_and_decode_output=RETRIEVE_AND_DECODE_OUTPUT,\n",
    "    question_answers=question_answers,\n",
    "    passages=passages,\n",
    ")"
   ]
  },
  {
   "cell_type": "code",
   "execution_count": null,
   "metadata": {},
   "outputs": [],
   "source": [
    "args = utils.load_json(input_copy_dir / \"notebook_args.json\")\n",
    "ra.display_results(results, out_file, args)\n",
    "rich.print(\"[bold green]DONE!\")"
   ]
  },
  {
   "cell_type": "code",
   "execution_count": null,
   "metadata": {},
   "outputs": [],
   "source": [
    "ra.compute_gen_distance(args, input_folder)"
   ]
  },
  {
   "cell_type": "code",
   "execution_count": null,
   "metadata": {},
   "outputs": [],
   "source": []
  }
 ],
 "metadata": {
  "interpreter": {
   "hash": "bb46d76ee84c521c9729e5bfd8a0e0e1022274a04a4ed834d9ed473069ce4070"
  },
  "kernelspec": {
   "display_name": "Python 3.8.2 64-bit ('condaless': venv)",
   "name": "python3"
  },
  "language_info": {
   "codemirror_mode": {
    "name": "ipython",
    "version": 3
   },
   "file_extension": ".py",
   "mimetype": "text/x-python",
   "name": "python",
   "nbconvert_exporter": "python",
   "pygments_lexer": "ipython3",
   "version": "3.8.2"
  },
  "orig_nbformat": 4
 },
 "nbformat": 4,
 "nbformat_minor": 2
}
