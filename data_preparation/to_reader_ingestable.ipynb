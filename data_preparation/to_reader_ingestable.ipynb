{
 "cells": [
  {
   "cell_type": "code",
   "execution_count": 43,
   "id": "b9dbe271",
   "metadata": {},
   "outputs": [],
   "source": [
    "# Standard library\n",
    "import logging\n",
    "\n",
    "import os\n",
    "from pathlib import Path\n",
    "import shlex\n",
    "import time\n",
    "import tqdm\n",
    "\n",
    "# Third party\n",
    "import hydra\n",
    "import jsonlines\n",
    "import rich\n",
    "import transformers\n",
    "\n",
    "# Setup Logging\n",
    "LOGGER = logging.getLogger(__name__)\n",
    "logging.getLogger(\"common_retriever\").setLevel(logging.WARNING)\n",
    "\n",
    "# First Party\n",
    "BASE_PATH = Path(\"/home/mila/g/gagnonju/DPR/\")\n",
    "CONF_PATH = BASE_PATH/\"conf\"\n",
    "INPUTS = Path(\"/home/mila/g/gagnonju/IteratedDecoding/outputs/\")\n",
    "OUT_FILE = Path(\"/home/mila/g/gagnonju/DPR/outputs/integrated_script_attempt/\")\n",
    "\n",
    "os.chdir(BASE_PATH)\n",
    "import common_retriever"
   ]
  },
  {
   "cell_type": "code",
   "execution_count": 32,
   "id": "5ed6257a",
   "metadata": {},
   "outputs": [
    {
     "name": "stderr",
     "output_type": "stream",
     "text": [
      "/home/mila/g/gagnonju/.anaconda3/lib/python3.8/site-packages/hydra/_internal/defaults_list.py:251: UserWarning: In 'dense_retriever': Defaults list is missing `_self_`. See https://hydra.cc/docs/upgrades/1.0_to_1.1/default_composition_order for more information\n",
      "  warnings.warn(msg, UserWarning)\n",
      "/home/mila/g/gagnonju/.anaconda3/lib/python3.8/site-packages/hydra/core/default_element.py:122: UserWarning: In 'ctx_sources/default_sources': Usage of deprecated keyword in package header '# @package _group_'.\n",
      "See https://hydra.cc/docs/next/upgrades/1.0_to_1.1/changes_to_package_header for more information\n",
      "  deprecation_warning(\n",
      "/home/mila/g/gagnonju/.anaconda3/lib/python3.8/site-packages/hydra/core/default_element.py:122: UserWarning: In 'datasets/retriever_default': Usage of deprecated keyword in package header '# @package _group_'.\n",
      "See https://hydra.cc/docs/next/upgrades/1.0_to_1.1/changes_to_package_header for more information\n",
      "  deprecation_warning(\n",
      "/home/mila/g/gagnonju/.anaconda3/lib/python3.8/site-packages/hydra/core/default_element.py:122: UserWarning: In 'encoder/hf_bert': Usage of deprecated keyword in package header '# @package _group_'.\n",
      "See https://hydra.cc/docs/next/upgrades/1.0_to_1.1/changes_to_package_header for more information\n",
      "  deprecation_warning(\n",
      "[140592103552832] 2021-09-10 00:10:13,298 [INFO] root: args.local_rank -1\n",
      "[140592103552832] 2021-09-10 00:10:13,299 [INFO] root: WORLD_SIZE None\n",
      "[140592103552832] 2021-09-10 00:10:13,426 [INFO] root: Initialized host cn-c005 as d.rank -1 on device=cuda, n_gpu=1, world size=1\n",
      "[140592103552832] 2021-09-10 00:10:13,427 [INFO] root: 16-bits training: False \n",
      "[140592103552832] 2021-09-10 00:10:13,438 [INFO] dpr.data.download_data: Requested resource from https://dl.fbaipublicfiles.com/dpr/wikipedia_split/psgs_w100.tsv.gz\n",
      "[140592103552832] 2021-09-10 00:10:13,439 [INFO] dpr.data.download_data: Download root_dir /home/mila/g/gagnonju/DPR\n",
      "[140592103552832] 2021-09-10 00:10:13,441 [INFO] dpr.data.download_data: File to be downloaded as /home/mila/g/gagnonju/DPR/downloads/data/wikipedia_split/psgs_w100.tsv\n",
      "[140592103552832] 2021-09-10 00:10:13,443 [INFO] dpr.data.download_data: File already exist /home/mila/g/gagnonju/DPR/downloads/data/wikipedia_split/psgs_w100.tsv\n",
      "21015325it [07:03, 49595.57it/s]                               \n"
     ]
    }
   ],
   "source": [
    "with hydra.initialize_config_dir(\n",
    "    config_dir=str(CONF_PATH), \n",
    "):\n",
    "    cfg = hydra.compose(\n",
    "        config_name=\"dense_retriever\",\n",
    "        overrides=[\n",
    "            f\"out_file={shlex.quote(str(OUT_FILE))}\",\n",
    "            f\"batch_size={1024}\",\n",
    "        ],\n",
    "    )\n",
    "    \n",
    "    all_passages, id_prefixes = common_retriever.load_passages(cfg)"
   ]
  },
  {
   "cell_type": "code",
   "execution_count": 82,
   "id": "92b03c7d",
   "metadata": {},
   "outputs": [
    {
     "name": "stdout",
     "output_type": "stream",
     "text": [
      "'nq_test': 3610\n",
      "'nq_dev': 8757\n",
      "'nq_train': 79168\n"
     ]
    }
   ],
   "source": [
    "SETS = [\n",
    "    \"nq_test\",\n",
    "    \"nq_dev\",\n",
    "    \"nq_train\",\n",
    "]\n",
    "\n",
    "data = {}\n",
    "for k in SETS:\n",
    "    input_target = INPUTS/f\"nq_retrievals_{k}.jsonl\"\n",
    "    if os.path.exists(input_target):\n",
    "        with jsonlines.open(input_target) as fin:\n",
    "            data[k] = list(fin)\n",
    "\n",
    "for k, v in data.items():\n",
    "    print(f\"'{k}': {len(v)}\")"
   ]
  },
  {
   "cell_type": "code",
   "execution_count": 83,
   "id": "372fcf22",
   "metadata": {
    "scrolled": false
   },
   "outputs": [
    {
     "name": "stderr",
     "output_type": "stream",
     "text": [
      "[140592103552832] 2021-09-10 01:29:19,027 [INFO] transformers.tokenization_utils_base: loading file https://s3.amazonaws.com/models.huggingface.co/bert/roberta-large-vocab.json from cache at /home/mila/g/gagnonju/.cache/torch/transformers/1ae1f5b6e2b22b25ccc04c000bb79ca847aa226d0761536b011cf7e5868f0655.ef00af9e673c7160b4d41cfda1f48c5f4cba57d5142754525572a846a1ab1b9b\n",
      "[140592103552832] 2021-09-10 01:29:19,030 [INFO] transformers.tokenization_utils_base: loading file https://s3.amazonaws.com/models.huggingface.co/bert/roberta-large-merges.txt from cache at /home/mila/g/gagnonju/.cache/torch/transformers/f8f83199a6270d582d6245dc100e99c4155de81c9745c6248077018fe01abcfb.70bec105b4158ed9a1747fea67a43f5dee97855c64d62b6ec3742f4cfdb5feda\n",
      "100%|██████████| 3610/3610 [00:13<00:00, 266.90it/s]\n",
      "100%|██████████| 8757/8757 [00:26<00:00, 326.85it/s]\n",
      "100%|██████████| 79168/79168 [03:45<00:00, 350.98it/s]\n"
     ]
    }
   ],
   "source": [
    "USE_N_CONTEXTS = 5\n",
    "\n",
    "logging.getLogger(\"transformers.configuration_utils\").setLevel(logging.CRITICAL)\n",
    "tokenizer = transformers.AutoTokenizer.from_pretrained(\"facebook/bart-large\")\n",
    "\n",
    "for set_name, set_ in data.items():\n",
    "    path = INPUTS/\"data_with_context\"/f\"with_context_{set_name}_all.source\"\n",
    "    with open(path, \"w\") as fin:\n",
    "        for i, entry in enumerate(tqdm.tqdm(set_)):\n",
    "            question = entry[\"question\"]\n",
    "            indices = entry[\"indices\"]\n",
    "            scores = entry[\"scores\"]\n",
    "            answers = entry[\"answer\"]\n",
    "\n",
    "            indices = [index for index in indices]\n",
    "            f_scores = [float(score) for score in scores]\n",
    "            contexts = [all_passages[index].text for index in indices[:USE_N_CONTEXTS]]\n",
    "            len_contexts = [\n",
    "                len(tokenizer.encode(context))\n",
    "                for context in contexts[:USE_N_CONTEXTS]\n",
    "            ]\n",
    "\n",
    "            SEP = tokenizer.sep_token\n",
    "            real_output = question + SEP + SEP.join(contexts)\n",
    "            fin.write(real_output + \"\\n\")"
   ]
  },
  {
   "cell_type": "code",
   "execution_count": 95,
   "id": "ad447c68",
   "metadata": {},
   "outputs": [
    {
     "name": "stdout",
     "output_type": "stream",
     "text": [
      "/home/mila/g/gagnonju/IteratedDecoding/outputs/data_with_context/\r\n",
      "/home/mila/g/gagnonju/IteratedDecoding/outputs/data_with_context/with_context_nq_dev_all.source\r\n",
      "/home/mila/g/gagnonju/IteratedDecoding/outputs/data_with_context/with_context_nq_test_all.source\r\n",
      "/home/mila/g/gagnonju/IteratedDecoding/outputs/data_with_context/with_context_nq_train_all.source\r\n"
     ]
    }
   ],
   "source": [
    "!find $HOME/IteratedDecoding/outputs/data_with_context/"
   ]
  },
  {
   "cell_type": "code",
   "execution_count": null,
   "id": "4d843d6c",
   "metadata": {},
   "outputs": [],
   "source": []
  }
 ],
 "metadata": {
  "kernelspec": {
   "display_name": "Python 3",
   "language": "python",
   "name": "python3"
  },
  "language_info": {
   "codemirror_mode": {
    "name": "ipython",
    "version": 3
   },
   "file_extension": ".py",
   "mimetype": "text/x-python",
   "name": "python",
   "nbconvert_exporter": "python",
   "pygments_lexer": "ipython3",
   "version": "3.8.8"
  }
 },
 "nbformat": 4,
 "nbformat_minor": 5
}
